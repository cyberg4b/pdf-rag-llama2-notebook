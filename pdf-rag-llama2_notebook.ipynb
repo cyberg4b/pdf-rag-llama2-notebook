{
  "cells": [
    {
      "cell_type": "markdown",
      "metadata": {
        "id": "sFjucEBRbP95"
      },
      "source": [
        "## Instalando Dependências"
      ]
    },
    {
      "cell_type": "code",
      "execution_count": null,
      "metadata": {
        "id": "S7cBkzUwaziq"
      },
      "outputs": [],
      "source": [
        "%pip install chromadb\n",
        "%pip install tiktoken\n",
        "%pip install PyPDF2\n",
        "%pip install llamaapi\n",
        "%pip install langchain\n",
        "%pip install langchain_ollama\n",
        "%pip install langchain-experimental"
      ]
    },
    {
      "cell_type": "markdown",
      "metadata": {
        "id": "yMpc2Cul4rLW"
      },
      "source": [
        "# Introdução ao LangChain"
      ]
    },
    {
      "cell_type": "markdown",
      "metadata": {
        "id": "2EcEmdb-40Uv"
      },
      "source": [
        "## Importando Dependências"
      ]
    },
    {
      "cell_type": "code",
      "execution_count": 83,
      "metadata": {
        "id": "V_X8fXUW47nu"
      },
      "outputs": [],
      "source": [
        "from langchain.vectorstores import Chroma\n",
        "from langchain.text_splitter import CharacterTextSplitter\n",
        "from langchain.document_loaders import TextLoader\n",
        "from langchain_ollama.llms import OllamaLLM\n",
        "from langchain_ollama import OllamaEmbeddings\n",
        "from langchain.chains import RetrievalQA\n",
        "\n",
        "from PyPDF2 import PdfReader"
      ]
    },
    {
      "cell_type": "markdown",
      "metadata": {
        "id": "1Dwgvi0j4eGD"
      },
      "source": [
        "## Função auxiliar para extração de arquivos"
      ]
    },
    {
      "cell_type": "code",
      "execution_count": 54,
      "metadata": {
        "id": "CPwnF_lq-F_B"
      },
      "outputs": [],
      "source": [
        "doc = PdfReader('document.pdf')\n",
        "\n",
        "with open('document.txt', 'w', encoding='utf-8') as f:\n",
        "  full_text = \"\"\n",
        "\n",
        "  for page in doc.pages:\n",
        "    full_text += page.extract_text()\n",
        "\n",
        "  f.write(full_text)\n",
        "\n",
        "with open('document.txt', 'r', encoding='utf-8') as f:\n",
        "  text = f.read()"
      ]
    },
    {
      "cell_type": "code",
      "execution_count": 97,
      "metadata": {
        "id": "M5j2IpOM6EI6"
      },
      "outputs": [],
      "source": [
        "loader = TextLoader(\"document.txt\")\n",
        "documents = loader.load()"
      ]
    },
    {
      "cell_type": "markdown",
      "metadata": {
        "id": "HzycrxlUeNyd"
      },
      "source": [
        "## Tokeniza os textos"
      ]
    },
    {
      "cell_type": "code",
      "execution_count": 78,
      "metadata": {
        "id": "WFxKb4Nt-SRM"
      },
      "outputs": [],
      "source": [
        "text_splitter = CharacterTextSplitter(chunk_size=512, chunk_overlap=24)\n",
        "texts = text_splitter.split_documents(documents)"
      ]
    },
    {
      "cell_type": "markdown",
      "metadata": {
        "id": "xuFYR_W8eZ5_"
      },
      "source": [
        "## Embedding e Vectorstores"
      ]
    },
    {
      "cell_type": "code",
      "execution_count": 93,
      "metadata": {
        "id": "N0ppV8eR-wAD"
      },
      "outputs": [],
      "source": [
        "embeddings = OllamaEmbeddings(model=\"nomic-embed-text\")\n",
        "docsearch = Chroma.from_documents(texts, embeddings)"
      ]
    },
    {
      "cell_type": "markdown",
      "metadata": {
        "id": "meK1HD8Denn5"
      },
      "source": [
        "## Chain"
      ]
    },
    {
      "cell_type": "code",
      "execution_count": 94,
      "metadata": {
        "id": "qI590MzfJBA4"
      },
      "outputs": [],
      "source": [
        "qa = RetrievalQA.from_chain_type(llm=OllamaLLM(model=\"llama2\"), chain_type=\"stuff\", retriever=docsearch.as_retriever())"
      ]
    },
    {
      "cell_type": "markdown",
      "metadata": {
        "id": "hGYPCdp9eyb0"
      },
      "source": [
        "## Resultado"
      ]
    },
    {
      "cell_type": "code",
      "execution_count": 96,
      "metadata": {
        "colab": {
          "base_uri": "https://localhost:8080/",
          "height": 87
        },
        "id": "O9bvvZlzKkHS",
        "outputId": "57d380e7-630d-4ef5-b8d8-2f4a2cef3e41"
      },
      "outputs": [
        {
          "data": {
            "application/vnd.google.colaboratory.intrinsic+json": {
              "type": "string"
            },
            "text/plain": [
              "'O marco civil da internet no Brasil foi desenvolvido em 2013, através do Projeto de Lei nº 2.126/2011, que foi approveitado pela Câmara dos Deputados em 2014.\\n\\nEm 28 de maio de 2013, o Senado Federal realizou uma discussão sobre o marco legal para a internet no Brasil, com a presença do presidente Dilma Rousseff. Nesse dia, também foi discutida a necessidade de um marco civil para garantir a liberdade e a segurança na Internet no país.\\n\\nNo entanto, o processo de criação do marco civil da internet no Brasil começou em 2011, quando foi apresentado o Projeto de Lei nº 2.126/2011, que buscava estabelecer normas para a Internet no Brasil. O projeto foi aprovado pela Câmara dos Deputados em 2014 e é considerado uma das principais leis da internet no país.'"
            ]
          },
          "execution_count": 96,
          "metadata": {},
          "output_type": "execute_result"
        }
      ],
      "source": [
        "query = \"Quando foi desenvolvido o marco civil da internet no Brasil?\"\n",
        "qa.run(query)"
      ]
    }
  ],
  "metadata": {
    "accelerator": "GPU",
    "colab": {
      "collapsed_sections": [
        "sFjucEBRbP95",
        "WB8YozJybIRK",
        "2EcEmdb-40Uv",
        "1Dwgvi0j4eGD",
        "HzycrxlUeNyd",
        "xuFYR_W8eZ5_",
        "meK1HD8Denn5",
        "hGYPCdp9eyb0"
      ],
      "gpuType": "T4",
      "provenance": [],
      "toc_visible": true
    },
    "kernelspec": {
      "display_name": "Python 3",
      "name": "python3"
    },
    "language_info": {
      "name": "python"
    }
  },
  "nbformat": 4,
  "nbformat_minor": 0
}
